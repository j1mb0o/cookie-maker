{
 "cells": [
  {
   "cell_type": "code",
   "execution_count": 1,
   "metadata": {},
   "outputs": [
    {
     "data": {
      "text/plain": [
       "{'ingredient': 'egg', 'amount': 2.0, 'units': None}"
      ]
     },
     "execution_count": 1,
     "metadata": {},
     "output_type": "execute_result"
    }
   ],
   "source": [
    "import re\n",
    "\n",
    "conversion_factors = {\n",
    "    'cup': 240,   \n",
    "    'tbsp': 15,   \n",
    "    'tsp': 5      \n",
    "}\n",
    "\n",
    "def get_ingredient_type(ingredient_name):\n",
    "    if any(liquid in ingredient_name for liquid in ['milk', 'oil', 'water', 'butter', 'extract']):\n",
    "        return 'ml'\n",
    "    elif ingredient_name == 'egg':\n",
    "        return None\n",
    "    else:\n",
    "        return 'g'\n",
    "\n",
    "\n",
    "\n",
    "# extract the amount, unit, and ingredient name\n",
    "def convert_to_standard_units(ingredient_str):\n",
    "    # Extract the amount using a regex to handle fractions and decimals\n",
    "    amount_match = re.search(r'(\\d+\\/\\d+|\\d+\\.\\d+|\\d+)', ingredient_str)\n",
    "    if amount_match:\n",
    "        amount_str = amount_match.group(1)\n",
    "        if '/' in amount_str:\n",
    "            amount = eval(amount_str)  # Convert fraction (e.g., 3/4 to 0.75)\n",
    "        else:\n",
    "            amount = float(amount_str)  # Convert decimal or whole number\n",
    "    else:\n",
    "        amount = 1  # Default to 1 if no amount is specified\n",
    "    \n",
    "    # Identify the measurement unit (e.g., cup, tbsp, tsp)\n",
    "    for unit in conversion_factors:\n",
    "        if unit in ingredient_str:\n",
    "            measurement = unit\n",
    "            break\n",
    "    else:\n",
    "        measurement = None  # Handle other cases\n",
    "    \n",
    "    # Extract the ingredient name by removing the amount and unit\n",
    "    if measurement is None:\n",
    "        ingredient_name = ' '.join(ingredient_str.split()[1:])\n",
    "    else:\n",
    "        ingredient_name = ' '.join(ingredient_str.split()[2:])  # Example to get \"white flour\"\n",
    "\n",
    "    # Step 2: Convert the amount to standardized units\n",
    "    if measurement:\n",
    "        units = amount * conversion_factors[measurement]\n",
    "    else:\n",
    "        units = amount  # If no measurement is found, assume raw amount\n",
    "    \n",
    "    # # Step 3: Lookup the health and taste scores\n",
    "    # if ingredient_name in ingredient_scores:\n",
    "    #     health_score = ingredient_scores[ingredient_name]['health']\n",
    "    #     taste_score = ingredient_scores[ingredient_name]['taste']\n",
    "    # else:\n",
    "    #     health_score = 5  # Default health score if ingredient is unknown\n",
    "    #     taste_score = 5  # Default taste score if ingredient is unknown\n",
    "    \n",
    "    return {\n",
    "        'ingredient': ingredient_name,\n",
    "        'amount': units,\n",
    "        'units':  get_ingredient_type(ingredient_name),  # The fixed unit system\n",
    "        # 'health': health_score,\n",
    "        # 'taste': taste_score\n",
    "    }\n",
    "\n",
    "# # Example usage for a solid ingredient\n",
    "# ingredient_str = \"3/4 cup white flour\"\n",
    "# result = convert_to_standard_units(ingredient_str)\n",
    "# print(result)\n",
    "\n",
    "# # Example usage for a liquid ingredient (but treated the same)\n",
    "# ingredient_str_liquid = \"1/2 cup milk\"\n",
    "# result_liquid = convert_to_standard_units(ingredient_str_liquid)\n",
    "# print(result_liquid)\n",
    "convert_to_standard_units(\"2 egg\")\n"
   ]
  },
  {
   "cell_type": "code",
   "execution_count": 2,
   "metadata": {},
   "outputs": [],
   "source": [
    "import json\n",
    "with open('recipes.json') as f:\n",
    "    recipes_json = json.load(f)\n",
    "\n",
    "unique_ingedients = set()\n",
    "\n",
    "for recipe in recipes_json:\n",
    "    # print(recipe['name'])\n",
    "    for line in recipe['ingredients']:\n",
    "        if 'egg' in line:\n",
    "            convert_to_standard_units(line)\n",
    "        # print(line)\n",
    "        # print(convert_to_standard_units(line))\n",
    "        unique_ingedients.add(convert_to_standard_units(line)['ingredient'])\n",
    "        if convert_to_standard_units(line)['ingredient'] == '':\n",
    "            print(convert_to_standard_units(line))"
   ]
  },
  {
   "cell_type": "code",
   "execution_count": 3,
   "metadata": {},
   "outputs": [
    {
     "data": {
      "text/plain": [
       "True"
      ]
     },
     "execution_count": 3,
     "metadata": {},
     "output_type": "execute_result"
    }
   ],
   "source": [
    "\"egg\" in unique_ingedients"
   ]
  },
  {
   "cell_type": "code",
   "execution_count": 4,
   "metadata": {},
   "outputs": [
    {
     "data": {
      "text/plain": [
       "59"
      ]
     },
     "execution_count": 4,
     "metadata": {},
     "output_type": "execute_result"
    }
   ],
   "source": [
    "len(unique_ingedients)"
   ]
  },
  {
   "cell_type": "code",
   "execution_count": 5,
   "metadata": {},
   "outputs": [
    {
     "data": {
      "text/plain": [
       "{'almond butter',\n",
       " 'almond flour',\n",
       " 'applesauce',\n",
       " 'baking powder',\n",
       " 'baking soda',\n",
       " 'brown sugar',\n",
       " 'butter',\n",
       " 'canned pumpkin',\n",
       " 'chocolate bar of choice',\n",
       " 'chocolate chips',\n",
       " 'chopped nuts',\n",
       " 'cinnamon',\n",
       " 'cocoa powder',\n",
       " 'coconut flour',\n",
       " 'coconut oil',\n",
       " 'coconut sugar',\n",
       " 'cream cheese',\n",
       " 'dutch cocoa powder',\n",
       " 'egg',\n",
       " 'finely chopped almonds',\n",
       " 'finely chopped walnuts',\n",
       " 'finely ground almond flour',\n",
       " 'freeze-dried raspberries',\n",
       " 'hazelnuts',\n",
       " 'honey',\n",
       " 'lemon juice',\n",
       " 'maple syrup',\n",
       " 'mashed banana',\n",
       " 'melted coconut oil',\n",
       " 'melted vegan butter',\n",
       " 'milk of choice',\n",
       " 'nut butter',\n",
       " 'oat flour',\n",
       " 'oats',\n",
       " 'oil',\n",
       " 'peanut butter',\n",
       " 'powdered erythritol',\n",
       " 'powdered sugar',\n",
       " 'protein powder',\n",
       " 'pumpkin pie spice',\n",
       " 'pure maple syrup',\n",
       " 'pure peppermint extract',\n",
       " 'pure vanilla',\n",
       " 'pure vanilla extract',\n",
       " 'quick oats',\n",
       " 'regular sugar',\n",
       " 'rolled oats',\n",
       " 'salt',\n",
       " 'salted butter',\n",
       " 'shredded coconut',\n",
       " 'spelt flour',\n",
       " 'sugar',\n",
       " 'tahini',\n",
       " 'uncut stevia',\n",
       " 'unsweetened shredded coconut',\n",
       " 'vegan butter',\n",
       " 'vegetable oil',\n",
       " 'white flour',\n",
       " 'white sugar'}"
      ]
     },
     "execution_count": 5,
     "metadata": {},
     "output_type": "execute_result"
    }
   ],
   "source": [
    "unique_ingedients"
   ]
  },
  {
   "cell_type": "code",
   "execution_count": 6,
   "metadata": {},
   "outputs": [],
   "source": [
    "ingredient_scores = {\n",
    "    'pure peppermint extract': {\"health\": 6, \"taste\": 7},\n",
    "    'almond butter': {\"health\": 8, \"taste\": 8},\n",
    "    'almond flour': {\"health\": 9, \"taste\": 7},\n",
    "    'applesauce': {\"health\": 8, \"taste\": 7},\n",
    "    'baking powder': {\"health\": 3, \"taste\": 5},\n",
    "    'baking soda': {\"health\": 3, \"taste\": 4},\n",
    "    'brown sugar': {\"health\": 4, \"taste\": 8},\n",
    "    'butter': {\"health\": 4, \"taste\": 9},\n",
    "    'canned pumpkin': {\"health\": 9, \"taste\": 6},\n",
    "    'chocolate bar of choice': {\"health\": 6, \"taste\": 10},\n",
    "    'chocolate chips': {\"health\": 5, \"taste\": 10},\n",
    "    'chopped nuts': {\"health\": 8, \"taste\": 7},\n",
    "    'cinnamon': {\"health\": 7, \"taste\": 8},\n",
    "    'cocoa powder': {\"health\": 8, \"taste\": 8},\n",
    "    'coconut flour': {\"health\": 8, \"taste\": 6},\n",
    "    'coconut oil': {\"health\": 6, \"taste\": 9},\n",
    "    'coconut sugar': {\"health\": 7, \"taste\": 7},\n",
    "    'cream cheese': {\"health\": 4, \"taste\": 8},\n",
    "    'dutch cocoa powder': {\"health\": 8, \"taste\": 8},\n",
    "    'egg': {\"health\": 8, \"taste\": 7},\n",
    "    'finely chopped almonds': {\"health\": 8, \"taste\": 7},\n",
    "    'finely chopped walnuts': {\"health\": 8, \"taste\": 7},\n",
    "    'finely ground almond flour': {\"health\": 9, \"taste\": 7},\n",
    "    'freeze-dried raspberries': {\"health\": 9, \"taste\": 6},\n",
    "    'hazelnuts': {\"health\": 8, \"taste\": 7},\n",
    "    'honey': {\"health\": 6, \"taste\": 8},\n",
    "    'lemon juice': {\"health\": 7, \"taste\": 6},\n",
    "    'maple syrup': {\"health\": 6, \"taste\": 9},\n",
    "    'mashed banana': {\"health\": 9, \"taste\": 7},\n",
    "    'melted coconut oil': {\"health\": 6, \"taste\": 9},\n",
    "    'melted vegan butter': {\"health\": 5, \"taste\": 8},\n",
    "    'milk of choice': {\"health\": 6, \"taste\": 7},\n",
    "    'nut butter': {\"health\": 7, \"taste\": 8},\n",
    "    'oat flour': {\"health\": 8, \"taste\": 7},\n",
    "    'oats': {\"health\": 9, \"taste\": 7},\n",
    "    'oil': {\"health\": 5, \"taste\": 9},\n",
    "    'peanut butter': {\"health\": 7, \"taste\": 9},\n",
    "    'powdered erythritol': {\"health\": 5, \"taste\": 5},\n",
    "    'powdered sugar': {\"health\": 3, \"taste\": 8},\n",
    "    'protein powder': {\"health\": 7, \"taste\": 6},\n",
    "    'pumpkin pie spice': {\"health\": 6, \"taste\": 8},\n",
    "    'pure maple syrup': {\"health\": 6, \"taste\": 9},\n",
    "    'pure vanilla': {\"health\": 5, \"taste\": 7},\n",
    "    'pure vanilla extract': {\"health\": 5, \"taste\": 7},\n",
    "    'quick oats': {\"health\": 9, \"taste\": 7},\n",
    "    'regular sugar': {\"health\": 3, \"taste\": 9},\n",
    "    'rolled oats': {\"health\": 9, \"taste\": 7},\n",
    "    'salt': {\"health\": 3, \"taste\": 9},\n",
    "    'salted butter': {\"health\": 4, \"taste\": 9},\n",
    "    'shredded coconut': {\"health\": 7, \"taste\": 8},\n",
    "    'spelt flour': {\"health\": 8, \"taste\": 7},\n",
    "    'sugar': {\"health\": 3, \"taste\": 9},\n",
    "    'tahini': {\"health\": 8, \"taste\": 7},\n",
    "    'uncut stevia': {\"health\": 6, \"taste\": 5},\n",
    "    'unsweetened shredded coconut': {\"health\": 7, \"taste\": 8},\n",
    "    'vegan butter': {\"health\": 5, \"taste\": 8},\n",
    "    'vegetable oil': {\"health\": 5, \"taste\": 9},\n",
    "    'white flour': {\"health\": 3, \"taste\": 7},\n",
    "    'white sugar': {\"health\": 3, \"taste\": 9}\n",
    "}"
   ]
  },
  {
   "cell_type": "code",
   "execution_count": 7,
   "metadata": {},
   "outputs": [],
   "source": [
    "new_recipes = []\n",
    "\n",
    "for recipe in recipes_json:\n",
    "    new_ingredients = []\n",
    "    for ingredient in recipe['ingredients']:\n",
    "        converted_ingredient = convert_to_standard_units(ingredient)\n",
    "        converted_ingredient[\"health\"] = ingredient_scores[converted_ingredient['ingredient']]['health']\n",
    "        converted_ingredient[\"taste\"] = ingredient_scores[converted_ingredient['ingredient']]['taste']\n",
    "        new_ingredients.append(converted_ingredient)\n",
    "    \n",
    "    new_recipe = {\n",
    "        'index': recipe['index'],\n",
    "        'name': recipe['name'],\n",
    "        'url': recipe['url'],\n",
    "        'ingredients': new_ingredients\n",
    "    }\n",
    "    new_recipes.append(new_recipe)\n",
    "\n",
    "with open('recipes_expanded.json', 'w') as f:\n",
    "    json.dump(new_recipes, f, indent=2)"
   ]
  }
 ],
 "metadata": {
  "kernelspec": {
   "display_name": "cookies",
   "language": "python",
   "name": "python3"
  },
  "language_info": {
   "codemirror_mode": {
    "name": "ipython",
    "version": 3
   },
   "file_extension": ".py",
   "mimetype": "text/x-python",
   "name": "python",
   "nbconvert_exporter": "python",
   "pygments_lexer": "ipython3",
   "version": "3.12.3"
  }
 },
 "nbformat": 4,
 "nbformat_minor": 2
}
