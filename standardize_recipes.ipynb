{
 "cells": [
  {
   "cell_type": "code",
   "execution_count": 16,
   "metadata": {},
   "outputs": [
    {
     "name": "stdout",
     "output_type": "stream",
     "text": [
      "{'ingredient': 'white flour', 'amount': 180.0, 'units': 'solid', 'health': 2, 'taste': 6}\n",
      "{'ingredient': 'milk', 'amount': 120.0, 'units': 'liquid', 'health': 7, 'taste': 6}\n"
     ]
    }
   ],
   "source": [
    "import re\n",
    "\n",
    "# Updated ingredient scores (same as before)\n",
    "ingredient_scores = {\n",
    "    'white flour': {'health': 2, 'taste': 6},\n",
    "    'oat flour': {'health': 8, 'taste': 6},\n",
    "    'sugar': {'health': 1, 'taste': 10},\n",
    "    'chocolate chips': {'health': 4, 'taste': 9},\n",
    "    'cinnamon': {'health': 7, 'taste': 7},\n",
    "    'butter': {'health': 5, 'taste': 9},\n",
    "    'milk': {'health': 7, 'taste': 6},\n",
    "    'oil': {'health': 5, 'taste': 8},\n",
    "    'water': {'health': 8, 'taste': 1},\n",
    "    # Add more ingredients as needed\n",
    "}\n",
    "\n",
    "# Simplified conversion factors\n",
    "conversion_factors = {\n",
    "    'cup': 240,   # 1 cup = 240 units\n",
    "    'tbsp': 15,   # 1 tbsp = 15 units\n",
    "    'tsp': 5      # 1 tsp = 5 units\n",
    "}\n",
    "\n",
    "def get_ingredient_type(ingredient_name):\n",
    "    if any(liquid in ingredient_name for liquid in ['milk', 'oil', 'water', 'butter', 'extract']):\n",
    "        return 'liquid'\n",
    "    else:\n",
    "        return 'solid'\n",
    "\n",
    "\n",
    "\n",
    "# Step 1: Function to extract the amount, unit, and ingredient name\n",
    "def convert_to_standard_units(ingredient_str):\n",
    "    # Extract the amount using a regex to handle fractions and decimals\n",
    "    amount_match = re.search(r'(\\d+\\/\\d+|\\d+\\.\\d+|\\d+)', ingredient_str)\n",
    "    if amount_match:\n",
    "        amount_str = amount_match.group(1)\n",
    "        if '/' in amount_str:\n",
    "            amount = eval(amount_str)  # Convert fraction (e.g., 3/4 to 0.75)\n",
    "        else:\n",
    "            amount = float(amount_str)  # Convert decimal or whole number\n",
    "    else:\n",
    "        amount = 1  # Default to 1 if no amount is specified\n",
    "    \n",
    "    # Identify the measurement unit (e.g., cup, tbsp, tsp)\n",
    "    for unit in conversion_factors:\n",
    "        if unit in ingredient_str:\n",
    "            measurement = unit\n",
    "            break\n",
    "    else:\n",
    "        measurement = None  # Handle other cases\n",
    "    \n",
    "    # Extract the ingredient name by removing the amount and unit\n",
    "    ingredient_name = ' '.join(ingredient_str.split()[2:])  # Example to get \"white flour\"\n",
    "\n",
    "    # Step 2: Convert the amount to standardized units\n",
    "    if measurement:\n",
    "        units = amount * conversion_factors[measurement]\n",
    "    else:\n",
    "        units = amount  # If no measurement is found, assume raw amount\n",
    "    \n",
    "    # Step 3: Lookup the health and taste scores\n",
    "    if ingredient_name in ingredient_scores:\n",
    "        health_score = ingredient_scores[ingredient_name]['health']\n",
    "        taste_score = ingredient_scores[ingredient_name]['taste']\n",
    "    else:\n",
    "        health_score = 5  # Default health score if ingredient is unknown\n",
    "        taste_score = 5  # Default taste score if ingredient is unknown\n",
    "    \n",
    "    return {\n",
    "        'ingredient': ingredient_name,\n",
    "        'amount': units,\n",
    "        'units':  get_ingredient_type(ingredient_name),  # The fixed unit system\n",
    "        'health': health_score,\n",
    "        'taste': taste_score\n",
    "    }\n",
    "\n",
    "# Example usage for a solid ingredient\n",
    "ingredient_str = \"3/4 cup white flour\"\n",
    "result = convert_to_standard_units(ingredient_str)\n",
    "print(result)\n",
    "\n",
    "# Example usage for a liquid ingredient (but treated the same)\n",
    "ingredient_str_liquid = \"1/2 cup milk\"\n",
    "result_liquid = convert_to_standard_units(ingredient_str_liquid)\n",
    "print(result_liquid)\n"
   ]
  },
  {
   "cell_type": "code",
   "execution_count": 24,
   "metadata": {},
   "outputs": [
    {
     "name": "stdout",
     "output_type": "stream",
     "text": [
      "{'quick oats', 'canned pumpkin', 'chocolate chips', 'pumpkin pie spice', 'almond butter', 'baking soda', 'pure vanilla extract', 'cinnamon', 'salt', 'oat flour', 'sugar'}\n"
     ]
    }
   ],
   "source": [
    "import json\n",
    "with open('recipes.json') as f:\n",
    "    recipes_json = json.load(f)\n",
    "\n",
    "for line in recipes_json[0]['ingredients']:\n",
    "    # print(convert_to_standard_units(line))\n",
    "    unique_ingedients.add(convert_to_standard_units(line)['ingredient'])\n",
    "print(unique_ingedients)"
   ]
  },
  {
   "cell_type": "code",
   "execution_count": 41,
   "metadata": {},
   "outputs": [],
   "source": [
    "import json\n",
    "with open('recipes.json') as f:\n",
    "    recipes_json = json.load(f)\n",
    "\n",
    "unique_ingedients = set()\n",
    "\n",
    "for recipe in recipes_json:\n",
    "    # print(recipe['name'])\n",
    "    for line in recipe['ingredients']:\n",
    "        # print(line)\n",
    "        # print(convert_to_standard_units(line))\n",
    "        unique_ingedients.add(convert_to_standard_units(line)['ingredient'])"
   ]
  },
  {
   "cell_type": "code",
   "execution_count": 44,
   "metadata": {},
   "outputs": [
    {
     "data": {
      "text/plain": [
       "{'',\n",
       " 'additional pure peppermint extract',\n",
       " 'almond butter',\n",
       " 'almond flour',\n",
       " 'applesauce',\n",
       " 'baking powder',\n",
       " 'baking soda',\n",
       " 'bar of choice',\n",
       " 'brown sugar',\n",
       " 'butter',\n",
       " 'canned pumpkin',\n",
       " 'chocolate chips',\n",
       " 'chopped nuts',\n",
       " 'cinnamon',\n",
       " 'cocoa powder',\n",
       " 'coconut flour',\n",
       " 'coconut oil',\n",
       " 'coconut sugar',\n",
       " 'cream cheese',\n",
       " 'dutch cocoa powder',\n",
       " 'finely chopped almonds',\n",
       " 'finely chopped walnuts',\n",
       " 'finely ground almond flour',\n",
       " 'freeze-dried raspberries',\n",
       " 'hazelnuts',\n",
       " 'honey',\n",
       " 'lemon juice',\n",
       " 'maple syrup',\n",
       " 'mashed banana',\n",
       " 'melted coconut oil',\n",
       " 'melted vegan butter',\n",
       " 'milk of choice',\n",
       " 'nut butter',\n",
       " 'oat flour',\n",
       " 'oats',\n",
       " 'oil',\n",
       " 'peanut butter',\n",
       " 'powdered erythritol',\n",
       " 'powdered sugar',\n",
       " 'protein powder',\n",
       " 'pumpkin pie spice',\n",
       " 'pure maple syrup',\n",
       " 'pure peppermint extract',\n",
       " 'pure vanilla',\n",
       " 'pure vanilla extract',\n",
       " 'quick oats',\n",
       " 'regular sugar',\n",
       " 'rolled oats',\n",
       " 'salt',\n",
       " 'salted butter',\n",
       " 'shredded coconut',\n",
       " 'spelt flour',\n",
       " 'stevia',\n",
       " 'sugar',\n",
       " 'tahini',\n",
       " 'unsweetened shredded coconut',\n",
       " 'vegan butter',\n",
       " 'vegetable oil',\n",
       " 'white flour',\n",
       " 'white sugar',\n",
       " 'whote flour'}"
      ]
     },
     "execution_count": 44,
     "metadata": {},
     "output_type": "execute_result"
    }
   ],
   "source": [
    "unique_ingedients"
   ]
  },
  {
   "cell_type": "code",
   "execution_count": 40,
   "metadata": {},
   "outputs": [
    {
     "data": {
      "text/plain": [
       "{'ingredient': 'baking powder',\n",
       " 'amount': 7.5,\n",
       " 'units': 'solid',\n",
       " 'health': 5,\n",
       " 'taste': 5}"
      ]
     },
     "execution_count": 40,
     "metadata": {},
     "output_type": "execute_result"
    }
   ],
   "source": [
    "convert_to_standard_units('3/2 tsp baking powder')"
   ]
  },
  {
   "cell_type": "code",
   "execution_count": null,
   "metadata": {},
   "outputs": [],
   "source": [
    "for line in recipes_json[1]['ingredients']:\n",
    "    # print(convert_to_standard_units(line))\n",
    "    unique_ingedients.add(convert_to_standard_units(line)['ingredient'])"
   ]
  },
  {
   "cell_type": "code",
   "execution_count": 25,
   "metadata": {},
   "outputs": [
    {
     "data": {
      "text/plain": [
       "{'ingredient': 'oat flour',\n",
       " 'amount': 240.0,\n",
       " 'units': 'solid',\n",
       " 'health': 8,\n",
       " 'taste': 6}"
      ]
     },
     "execution_count": 25,
     "metadata": {},
     "output_type": "execute_result"
    }
   ],
   "source": [
    "convert_to_standard_units('1 cup oat flour')"
   ]
  }
 ],
 "metadata": {
  "kernelspec": {
   "display_name": "creativity",
   "language": "python",
   "name": "python3"
  },
  "language_info": {
   "codemirror_mode": {
    "name": "ipython",
    "version": 3
   },
   "file_extension": ".py",
   "mimetype": "text/x-python",
   "name": "python",
   "nbconvert_exporter": "python",
   "pygments_lexer": "ipython3",
   "version": "3.11.9"
  }
 },
 "nbformat": 4,
 "nbformat_minor": 2
}
