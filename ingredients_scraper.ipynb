{
 "cells": [
  {
   "cell_type": "code",
   "execution_count": 2,
   "metadata": {},
   "outputs": [],
   "source": [
    "from bs4 import BeautifulSoup\n",
    "import requests"
   ]
  },
  {
   "cell_type": "code",
   "execution_count": 3,
   "metadata": {},
   "outputs": [
    {
     "data": {
      "text/plain": [
       "['https://chocolatecoveredkatie.com/healthy-pumpkin-cookies',\n",
       " 'https://chocolatecoveredkatie.com/microwave-cookies-chocolate-chip/',\n",
       " 'https://chocolatecoveredkatie.com/nutritional-info-chocolate-macadamia-cookies/',\n",
       " 'https://chocolatecoveredkatie.com/2020/04/13/peanut-butter-blossom-cookies/',\n",
       " 'https://chocolatecoveredkatie.com/vegan-nilla-wafers/',\n",
       " 'https://chocolatecoveredkatie.com/2020/04/05/peanut-butter-no-bake-cookies/',\n",
       " 'https://chocolatecoveredkatie.com/2018/12/06/macaroons-recipe-coconut-cookies/',\n",
       " 'https://chocolatecoveredkatie.com/keto-thin-mints-low-carb/',\n",
       " 'https://chocolatecoveredkatie.com/macaroons-recipe-coconut-cookies/',\n",
       " 'https://chocolatecoveredkatie.com/chocolate-crinkle-cookies-recipe/',\n",
       " 'https://chocolatecoveredkatie.com/2012/05/27/the-best-healthy-chocolate-chip-cookies/',\n",
       " 'https://chocolatecoveredkatie.com/coconut-flour-cookies/',\n",
       " 'https://chocolatecoveredkatie.com/keto-peanut-butter-cookies/',\n",
       " 'https://chocolatecoveredkatie.com/chocolate-peanut-butter-cookies/',\n",
       " 'https://chocolatecoveredkatie.com/2011/12/11/secret-peanut-butter-cookies/',\n",
       " 'https://chocolatecoveredkatie.com/2019/06/03/chocolate-no-bake-cookies/',\n",
       " 'https://chocolatecoveredkatie.com/flourless-chocolate-chip-cookies/',\n",
       " 'https://chocolatecoveredkatie.com/healthy-girl-scout-cookies-tagalongs/',\n",
       " 'https://chocolatecoveredkatie.com/peanut-butter-no-bake-cookies/',\n",
       " 'https://chocolatecoveredkatie.com/the-best-healthy-chocolate-chip-cookies/',\n",
       " 'https://chocolatecoveredkatie.com/protein-cookies/',\n",
       " 'https://chocolatecoveredkatie.com/tahini-cookies-recipe/',\n",
       " 'https://chocolatecoveredkatie.com/chocolate-snowball-cookies/',\n",
       " 'https://chocolatecoveredkatie.com/2018/01/18/breakfast-cookies-recipe/',\n",
       " 'https://chocolatecoveredkatie.com/chocolate-coconut-cookies/',\n",
       " 'https://chocolatecoveredkatie.com/peanut-butter-blossom-cookies/',\n",
       " 'https://chocolatecoveredkatie.com/2020/02/06/vegan-sugar-cookies/',\n",
       " 'https://chocolatecoveredkatie.com/keto-cookies-recipe/',\n",
       " 'https://chocolatecoveredkatie.com/secret-peanut-butter-cookies/',\n",
       " 'https://chocolatecoveredkatie.com/snowball-cookies-that-melt-in-your-mouth/',\n",
       " 'https://chocolatecoveredkatie.com/vegan-sugar-cookies/',\n",
       " 'https://chocolatecoveredkatie.com/3-ingredient-peanut-butter-bites/',\n",
       " 'https://chocolatecoveredkatie.com/vegan-levain-chocolate-chip-cookies/',\n",
       " 'https://chocolatecoveredkatie.com/cookie-dough-balls/',\n",
       " 'https://chocolatecoveredkatie.com/2017/11/30/cream-cheese-stuffed-cinnamon-sugar-pillow-cookies/',\n",
       " 'https://chocolatecoveredkatie.com/2018/10/08/keto-cookies-recipe/',\n",
       " 'https://chocolatecoveredkatie.com/2019/12/16/keto-chocolate-cookies/',\n",
       " 'https://chocolatecoveredkatie.com/vegan-chocolate-chip-cookies-recipe/',\n",
       " 'https://chocolatecoveredkatie.com/2019/05/16/keto-thin-mints-low-carb/',\n",
       " 'https://chocolatecoveredkatie.com/healthy-oreos/',\n",
       " 'https://chocolatecoveredkatie.com/nutrition-facts-chocolate-chip-cookies/',\n",
       " 'https://chocolatecoveredkatie.com/vegan-peppermint-cookies-recipe/',\n",
       " 'https://chocolatecoveredkatie.com/better-than-nutella/',\n",
       " 'https://chocolatecoveredkatie.com/cream-cheese-stuffed-cinnamon-sugar-pillow-cookies/',\n",
       " 'https://chocolatecoveredkatie.com/2019/12/05/lemon-meltaway-cookies/',\n",
       " 'https://chocolatecoveredkatie.com/lemon-meltaway-cookies/',\n",
       " 'https://chocolatecoveredkatie.com/vegan-snickerdoodles/',\n",
       " 'https://chocolatecoveredkatie.com/chocolate-no-bake-cookies/']"
      ]
     },
     "execution_count": 3,
     "metadata": {},
     "output_type": "execute_result"
    }
   ],
   "source": [
    "# read the href_set.txt file and save the hrefs in a list\n",
    "urls = []\n",
    "with open('href_set.txt', 'r') as f:\n",
    "    lines = f.readlines()\n",
    "lines = [line.strip() for line in lines]\n",
    "lines"
   ]
  },
  {
   "cell_type": "code",
   "execution_count": 4,
   "metadata": {},
   "outputs": [],
   "source": [
    "# //a[@class='wprm-recipe-print wprm-recipe-link wprm-print-recipe-shortcode wprm-block-text-normal']\n",
    "\n",
    "url = lines[1]\n",
    "res = requests.get(url)\n",
    "if res.status_code != 200:\n",
    "    print('Error: ', res)\n",
    "    exit(1)\n",
    "response = res.text"
   ]
  },
  {
   "cell_type": "code",
   "execution_count": 5,
   "metadata": {},
   "outputs": [],
   "source": [
    "bs = BeautifulSoup(response, 'html.parser')"
   ]
  },
  {
   "cell_type": "code",
   "execution_count": 43,
   "metadata": {},
   "outputs": [
    {
     "data": {
      "text/plain": [
       "'Chocolate Chip Microwave Cookies - NO oven required!'"
      ]
     },
     "execution_count": 43,
     "metadata": {},
     "output_type": "execute_result"
    }
   ],
   "source": [
    "bs.title.get_text()"
   ]
  },
  {
   "cell_type": "code",
   "execution_count": 14,
   "metadata": {},
   "outputs": [],
   "source": [
    "# Find the element with the specified class\n",
    "element = bs.find_all('li', class_=\"wprm-recipe-ingredient\")\n",
    "\n",
    "# # Extract the href attribute\n",
    "# if element:\n",
    "#     href = element.get('href')\n",
    "#     print(href)\n",
    "# else:\n",
    "#     print(\"Element not found\")"
   ]
  },
  {
   "cell_type": "code",
   "execution_count": 16,
   "metadata": {},
   "outputs": [
    {
     "name": "stdout",
     "output_type": "stream",
     "text": [
      "1/4 cup white, spelt, or oat flour (a keto option is listed above in this post)\n",
      "1/8 tsp baking soda\n",
      "1/16 tsp salt\n",
      "2 tbsp sugar, unrefined if desired\n",
      "1 – 3 tbsp chocolate chips\n",
      "1/2 tbsp milk of choice\n",
      "1/16 tsp pure vanilla extract\n",
      "1/2 tbsp oil or softened nut butter\n"
     ]
    }
   ],
   "source": [
    "for e in element:\n",
    "    print(e.text)"
   ]
  },
  {
   "cell_type": "code",
   "execution_count": 45,
   "metadata": {},
   "outputs": [
    {
     "data": {
      "text/plain": [
       "200"
      ]
     },
     "execution_count": 45,
     "metadata": {},
     "output_type": "execute_result"
    }
   ],
   "source": [
    "ingredients = requests.get('https://chocolatecoveredkatie.com/wprm_print/healthy-pumpkin-cookies')\n",
    "ingredients.status_code"
   ]
  },
  {
   "cell_type": "code",
   "execution_count": 46,
   "metadata": {},
   "outputs": [],
   "source": [
    "ing_ht = ingredients.text\n",
    "\n",
    "bs_ing = BeautifulSoup(ing_ht, 'html.parser')"
   ]
  },
  {
   "cell_type": "code",
   "execution_count": 50,
   "metadata": {},
   "outputs": [
    {
     "name": "stdout",
     "output_type": "stream",
     "text": [
      "3/4 cup quick oats (for grain-free, try these Keto Cookies)\n",
      "1/2 cup oat flour\n",
      "1/4 cup sugar, unrefined or erythritol if desired\n",
      "3-5 tbsp mini chocolate chips\n",
      "1/4 tsp cinnamon\n",
      "1/4 tsp pumpkin pie spice, or additional cinnamon\n",
      "1/4 tsp salt\n",
      "1/4 tsp baking soda\n",
      "1/3 cup canned pumpkin, or mashed sweet potato\n",
      "1/3 cup almond butter, or regular butter spread\n",
      "1/2 tsp pure vanilla extract\n",
      "*The cookies can be baked or no-bake - it's your choice!If baking, preheat oven to 350 F. Combine all dry ingredients in a large mixing bowl. Add wet ingredients (soften nut butter to a stir-able consistency first if needed), and stir to form a batter. (Watch the step-by-step video above if you're a visual person like I am.) Form balls, then place on a cookie tray and flatten a little. Either refrigerate until firm, or bake 10 minutes, then let cool an additional 10 minutes, during which time they will firm up. You could also make up the dough balls ahead of time and freeze them for a rainy day!View Nutrition Facts\n"
     ]
    }
   ],
   "source": [
    "ingredients_list = bs_ing.find_all('li')\n",
    "for ingredient in ingredients_list:\n",
    "    # if ingredient.get_text()[0].isdigit():\n",
    "    #     print(ingredient.get_text())\n",
    "    print(ingredient.get_text())"
   ]
  }
 ],
 "metadata": {
  "kernelspec": {
   "display_name": "creativity",
   "language": "python",
   "name": "python3"
  },
  "language_info": {
   "codemirror_mode": {
    "name": "ipython",
    "version": 3
   },
   "file_extension": ".py",
   "mimetype": "text/x-python",
   "name": "python",
   "nbconvert_exporter": "python",
   "pygments_lexer": "ipython3",
   "version": "3.11.9"
  }
 },
 "nbformat": 4,
 "nbformat_minor": 2
}
