{
 "cells": [
  {
   "cell_type": "code",
   "execution_count": 30,
   "metadata": {},
   "outputs": [],
   "source": [
    "import geneticalgorithm as ga\n",
    "from typing import List, Tuple"
   ]
  },
  {
   "cell_type": "code",
   "execution_count": 34,
   "metadata": {},
   "outputs": [],
   "source": [
    "def fitness_function(ing_list: List[int]) -> float:\n",
    "    taste_sum = 0\n",
    "    health_sum = 0\n",
    "\n",
    "    health_sum = sum([x['health'] for x in ing_list])\n",
    "    taste_sum = sum([x['taste'] for x in ing_list])\n",
    "    # we prioritize health over taste\n",
    "    return 0.7 * health_sum + 0.3 * taste_sum\n",
    "\n",
    "\n",
    "import random\n",
    "\n",
    "# Create a dummy list of dictionaries\n",
    "dummy_data: List[dict] = [{'health': random.randint(1, 10), 'taste': random.randint(1, 10)} for _ in range(100)]\n",
    "\n",
    "# print(dummy_data)\n",
    "health_sum = sum([x['health'] for x in dummy_data])\n",
    "taste_sum = sum([x['taste'] for x in dummy_data])\n",
    "\n",
    "health_sum, taste_sum\n",
    "\n",
    "\n",
    "assert fitness_function(dummy_data) == (health_sum * 0.7 + taste_sum * 0.3)"
   ]
  },
  {
   "cell_type": "code",
   "execution_count": 35,
   "metadata": {},
   "outputs": [],
   "source": [
    "# sample random recipe from json\n",
    "\n",
    "import json\n",
    "\n",
    "with open('recipes_expanded.json') as f:\n",
    "    recipes = json.load(f)"
   ]
  },
  {
   "cell_type": "code",
   "execution_count": null,
   "metadata": {},
   "outputs": [],
   "source": [
    "fitness_function(random.choice(recipes)[\"ingredients\"])"
   ]
  },
  {
   "cell_type": "markdown",
   "metadata": {},
   "source": [
    "# Fitness function\n",
    "\n",
    "`f(x) = 0.7 health_score + 0.3 taste_score`\n",
    "\n",
    "Should also add some check to have flour to be mandatory for example, spesific item to be determined\n",
    "\n"
   ]
  },
  {
   "cell_type": "code",
   "execution_count": 65,
   "metadata": {},
   "outputs": [],
   "source": []
  },
  {
   "cell_type": "code",
   "execution_count": null,
   "metadata": {},
   "outputs": [],
   "source": [
    "import random\n",
    "\n",
    "def dummy_fitness_function(ing_list) -> float:\n",
    "    return .7 * ing_list[\"health\"] + .3 * ing_list[\"taste\"]\n",
    "\n",
    "\n",
    "dummy_discts = [{'index': i, 'health': random.randint(1, 10), 'taste': random.randint(1, 10)} for i in range(5)]\n",
    "\n",
    "for i in dummy_discts:\n",
    "    i[\"weight\"] = dummy_fitness_function(i)\n",
    "\n",
    "dummy_discts[0]['weight'] = 0.5\n",
    "\n",
    "for i in dummy_discts:\n",
    "    print(i)\n",
    "\n",
    "random.choices(dummy_discts, weights=[x[\"weight\"] for x in dummy_discts], k = 10)"
   ]
  },
  {
   "cell_type": "markdown",
   "metadata": {},
   "source": [
    "# Selection\n",
    "\n",
    "To select the initial population (parents) we will use proportional selection. To create the weight for each normalize the fitnes for each recipe.\n",
    "\n",
    "$F{weight} = F_i/F_{total}$\n",
    "\n",
    "```python\n",
    "def proportional_selection(population, selection_probabilities, num_selections=1):\n",
    "    return random.choices(population, weights=selection_probabilities, k=num_selections)\n",
    "```\n",
    "\n",
    "Create a dictionary with `index` and ~~`normalised fitness`~~ (weights can be un-normalized)\n",
    "\n",
    "**Example code**:\n",
    "```python\n",
    "\n",
    "import random\n",
    "\n",
    "def dummy_fitness_function(ing_list) -> float:\n",
    "    return .7 * ing_list[\"health\"] + .3 * ing_list[\"taste\"]\n",
    "\n",
    "\n",
    "dummy_discts = [{'index': i, 'health': random.randint(1, 10), 'taste': random.randint(1, 10)} for i in range(5)]\n",
    "\n",
    "for i in dummy_discts:\n",
    "    i[\"weight\"] = dummy_fitness_function(i)\n",
    "\n",
    "dummy_discts[0]['weight'] = 0.5\n",
    "\n",
    "for i in dummy_discts:\n",
    "    print(i)\n",
    "\n",
    "random.choices(dummy_discts, weights=[x[\"weight\"] for x in dummy_discts], k = 10)\n",
    "```\n"
   ]
  },
  {
   "cell_type": "markdown",
   "metadata": {},
   "source": [
    "# Crossover\n",
    "Available crossover choices:\n",
    "* one point crossover\n",
    "* uniform crossover\n",
    "\n",
    "After crossover check if we have a duplicate and we sum their amounts.\n",
    "```python\n",
    "\n",
    "def merge_duplicate_ingredients(recipe: dict) -> dict:\n",
    "    ingredient_dict = {}\n",
    "    for ingredient in recipe[\"ingredients\"]:\n",
    "        ing_name = ingredient[\"ingredient\"]\n",
    "        if ing_name in ingredient_dict:\n",
    "            ingredient_dict[ing_name][\"amount\"] += ingredient[\"amount\"]\n",
    "        else:\n",
    "            ingredient_dict[ing_name] = ingredient\n",
    "\n",
    "    recipe[\"ingredients\"] = list(ingredient_dict.values())\n",
    "    return recipe\n",
    "\n",
    "# Example usage with test_dup\n",
    "merged_recipe = merge_duplicate_ingredients(test_dup)\n",
    "for i in merged_recipe[\"ingredients\"]:\n",
    "    print(i)\n",
    "```"
   ]
  },
  {
   "cell_type": "code",
   "execution_count": null,
   "metadata": {},
   "outputs": [],
   "source": []
  },
  {
   "cell_type": "code",
   "execution_count": null,
   "metadata": {},
   "outputs": [],
   "source": [
    "def check_duplicates(ingredients: List[dict]) -> bool:\n",
    "    seen = set()\n",
    "    for ingredient in ingredients:\n",
    "        ingredient_tuple = tuple(ingredient.items())\n",
    "        if ingredient_tuple in seen:\n",
    "            return True\n",
    "        seen.add(ingredient_tuple)\n",
    "    return False\n",
    "\n",
    "# Example usage with dummy_data\n",
    "has_duplicates = check_duplicates(dummy_data)\n",
    "print(\"Duplicates found:\", has_duplicates)"
   ]
  },
  {
   "cell_type": "code",
   "execution_count": 97,
   "metadata": {},
   "outputs": [],
   "source": [
    "test_dup = {\n",
    "    \"index\": 1,\n",
    "    \"name\": \"healthy-pumpkin-cookies\",\n",
    "    \"url\": \"https://chocolatecoveredkatie.com/healthy-pumpkin-cookies\",\n",
    "    \"ingredients\": [\n",
    "      {\n",
    "        \"ingredient\": \"quick oats\",\n",
    "        \"amount\": 180.0,\n",
    "        \"units\": \"g\",\n",
    "        \"health\": 9,\n",
    "        \"taste\": 7\n",
    "      },\n",
    "      {\n",
    "        \"ingredient\": \"oat flour\",\n",
    "        \"amount\": 120.0,\n",
    "        \"units\": \"g\",\n",
    "        \"health\": 8,\n",
    "        \"taste\": 7\n",
    "      },\n",
    "      {\n",
    "        \"ingredient\": \"sugar\",\n",
    "        \"amount\": 60.0,\n",
    "        \"units\": \"g\",\n",
    "        \"health\": 3,\n",
    "        \"taste\": 9\n",
    "      },\n",
    "      {\n",
    "        \"ingredient\": \"chocolate chips\",\n",
    "        \"amount\": 45.0,\n",
    "        \"units\": \"g\",\n",
    "        \"health\": 5,\n",
    "        \"taste\": 10\n",
    "      },\n",
    "      {\n",
    "        \"ingredient\": \"cinnamon\",\n",
    "        \"amount\": 1.25,\n",
    "        \"units\": \"g\",\n",
    "        \"health\": 7,\n",
    "        \"taste\": 8\n",
    "      },\n",
    "      {\n",
    "        \"ingredient\": \"pumpkin pie spice\",\n",
    "        \"amount\": 1.25,\n",
    "        \"units\": \"g\",\n",
    "        \"health\": 6,\n",
    "        \"taste\": 8\n",
    "      },\n",
    "      {\n",
    "        \"ingredient\": \"salt\",\n",
    "        \"amount\": 1.25,\n",
    "        \"units\": \"g\",\n",
    "        \"health\": 3,\n",
    "        \"taste\": 9\n",
    "      },\n",
    "      {\n",
    "        \"ingredient\": \"baking soda\",\n",
    "        \"amount\": 1.25,\n",
    "        \"units\": \"g\",\n",
    "        \"health\": 3,\n",
    "        \"taste\": 4\n",
    "      },\n",
    "      {\n",
    "        \"ingredient\": \"canned pumpkin\",\n",
    "        \"amount\": 80.0,\n",
    "        \"units\": \"g\",\n",
    "        \"health\": 9,\n",
    "        \"taste\": 6\n",
    "      },\n",
    "      {\n",
    "        \"ingredient\": \"almond butter\",\n",
    "        \"amount\": 80.0,\n",
    "        \"units\": \"ml\",\n",
    "        \"health\": 8,\n",
    "        \"taste\": 8\n",
    "      },\n",
    "      {\n",
    "        \"ingredient\": \"almond butter\",\n",
    "        \"amount\": 2.5,\n",
    "        \"units\": \"ml\",\n",
    "        \"health\": 5,\n",
    "        \"taste\": 7\n",
    "      }\n",
    "    ]\n",
    "  }"
   ]
  },
  {
   "cell_type": "code",
   "execution_count": 98,
   "metadata": {},
   "outputs": [
    {
     "name": "stdout",
     "output_type": "stream",
     "text": [
      "{'ingredient': 'quick oats', 'amount': 180.0, 'units': 'g', 'health': 9, 'taste': 7}\n",
      "{'ingredient': 'oat flour', 'amount': 120.0, 'units': 'g', 'health': 8, 'taste': 7}\n",
      "{'ingredient': 'sugar', 'amount': 60.0, 'units': 'g', 'health': 3, 'taste': 9}\n",
      "{'ingredient': 'chocolate chips', 'amount': 45.0, 'units': 'g', 'health': 5, 'taste': 10}\n",
      "{'ingredient': 'cinnamon', 'amount': 1.25, 'units': 'g', 'health': 7, 'taste': 8}\n",
      "{'ingredient': 'pumpkin pie spice', 'amount': 1.25, 'units': 'g', 'health': 6, 'taste': 8}\n",
      "{'ingredient': 'salt', 'amount': 1.25, 'units': 'g', 'health': 3, 'taste': 9}\n",
      "{'ingredient': 'baking soda', 'amount': 1.25, 'units': 'g', 'health': 3, 'taste': 4}\n",
      "{'ingredient': 'canned pumpkin', 'amount': 80.0, 'units': 'g', 'health': 9, 'taste': 6}\n",
      "{'ingredient': 'almond butter', 'amount': 80.0, 'units': 'ml', 'health': 8, 'taste': 8}\n",
      "{'ingredient': 'almond butter', 'amount': 2.5, 'units': 'ml', 'health': 5, 'taste': 7}\n"
     ]
    }
   ],
   "source": [
    "for i in test_dup[\"ingredients\"]:\n",
    "    print(i)"
   ]
  },
  {
   "cell_type": "code",
   "execution_count": 99,
   "metadata": {},
   "outputs": [
    {
     "name": "stdout",
     "output_type": "stream",
     "text": [
      "{'ingredient': 'quick oats', 'amount': 180.0, 'units': 'g', 'health': 9, 'taste': 7}\n",
      "{'ingredient': 'oat flour', 'amount': 120.0, 'units': 'g', 'health': 8, 'taste': 7}\n",
      "{'ingredient': 'sugar', 'amount': 60.0, 'units': 'g', 'health': 3, 'taste': 9}\n",
      "{'ingredient': 'chocolate chips', 'amount': 45.0, 'units': 'g', 'health': 5, 'taste': 10}\n",
      "{'ingredient': 'cinnamon', 'amount': 1.25, 'units': 'g', 'health': 7, 'taste': 8}\n",
      "{'ingredient': 'pumpkin pie spice', 'amount': 1.25, 'units': 'g', 'health': 6, 'taste': 8}\n",
      "{'ingredient': 'salt', 'amount': 1.25, 'units': 'g', 'health': 3, 'taste': 9}\n",
      "{'ingredient': 'baking soda', 'amount': 1.25, 'units': 'g', 'health': 3, 'taste': 4}\n",
      "{'ingredient': 'canned pumpkin', 'amount': 80.0, 'units': 'g', 'health': 9, 'taste': 6}\n",
      "{'ingredient': 'almond butter', 'amount': 82.5, 'units': 'ml', 'health': 8, 'taste': 8}\n"
     ]
    }
   ],
   "source": [
    "def merge_duplicate_ingredients(recipe: dict) -> dict:\n",
    "    ingredient_dict = {}\n",
    "    for ingredient in recipe[\"ingredients\"]:\n",
    "        ing_name = ingredient[\"ingredient\"]\n",
    "        if ing_name in ingredient_dict:\n",
    "            ingredient_dict[ing_name][\"amount\"] += ingredient[\"amount\"]\n",
    "        else:\n",
    "            ingredient_dict[ing_name] = ingredient\n",
    "\n",
    "    recipe[\"ingredients\"] = list(ingredient_dict.values())\n",
    "    return recipe\n",
    "\n",
    "# Example usage with test_dup\n",
    "merged_recipe = merge_duplicate_ingredients(test_dup)\n",
    "for i in merged_recipe[\"ingredients\"]:\n",
    "    print(i)"
   ]
  },
  {
   "cell_type": "markdown",
   "metadata": {},
   "source": [
    "# Mutation\n",
    "Mutation types:\n",
    "* amount of ingredient, select random ing, and scale its amount 0.25-2 e.g `amount = int(amount * random(0.25, 2))`\n",
    "* change ingredient with another, if liquid change from liquids if solid from solids\n",
    "* add ingredient (maybe tricky because we have to also add the amount for it)\n",
    "* delete an ingredient"
   ]
  }
 ],
 "metadata": {
  "kernelspec": {
   "display_name": "creativity",
   "language": "python",
   "name": "python3"
  },
  "language_info": {
   "codemirror_mode": {
    "name": "ipython",
    "version": 3
   },
   "file_extension": ".py",
   "mimetype": "text/x-python",
   "name": "python",
   "nbconvert_exporter": "python",
   "pygments_lexer": "ipython3",
   "version": "3.11.9"
  }
 },
 "nbformat": 4,
 "nbformat_minor": 2
}
